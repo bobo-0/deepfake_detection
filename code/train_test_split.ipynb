{
  "nbformat": 4,
  "nbformat_minor": 0,
  "metadata": {
    "colab": {
      "name": "train_test_split.ipynb",
      "provenance": [],
      "collapsed_sections": [],
      "include_colab_link": true
    },
    "kernelspec": {
      "name": "python3",
      "display_name": "Python 3"
    },
    "language_info": {
      "name": "python"
    },
    "accelerator": "GPU"
  },
  "cells": [
    {
      "cell_type": "markdown",
      "metadata": {
        "id": "view-in-github",
        "colab_type": "text"
      },
      "source": [
        "<a href=\"https://colab.research.google.com/github/bobo-0/deepfake_detection/blob/main/code/train_test_split.ipynb\" target=\"_parent\"><img src=\"https://colab.research.google.com/assets/colab-badge.svg\" alt=\"Open In Colab\"/></a>"
      ]
    },
    {
      "cell_type": "code",
      "source": [
        "import torch\n",
        "\n",
        "# GPU 사용 확인\n",
        "device = torch.device(\"cuda:0\" if torch.cuda.is_available() else \"cpu\")\n",
        "print(f'{device} is available.')"
      ],
      "metadata": {
        "colab": {
          "base_uri": "https://localhost:8080/"
        },
        "id": "aGb1h1ruiwLN",
        "outputId": "4c738ff2-f72c-49e7-9aaf-efce5b5b520a"
      },
      "execution_count": null,
      "outputs": [
        {
          "output_type": "stream",
          "name": "stdout",
          "text": [
            "cuda:0 is available.\n"
          ]
        }
      ]
    },
    {
      "cell_type": "code",
      "source": [
        "# 구글 드라이브 마운트\n",
        "import os, shutil\n",
        "from google.colab import drive\n",
        "import glob\n",
        "\n",
        "drive.mount('/content/gdrive/')"
      ],
      "metadata": {
        "colab": {
          "base_uri": "https://localhost:8080/"
        },
        "id": "IsCmiaVtiywX",
        "outputId": "9d7dfb45-b48e-463c-e298-e12aefe78f14"
      },
      "execution_count": null,
      "outputs": [
        {
          "output_type": "stream",
          "name": "stdout",
          "text": [
            "Mounted at /content/gdrive/\n"
          ]
        }
      ]
    },
    {
      "cell_type": "code",
      "source": [
        "from tqdm import tqdm"
      ],
      "metadata": {
        "id": "9LTL3nyJ2bVR"
      },
      "execution_count": null,
      "outputs": []
    },
    {
      "cell_type": "markdown",
      "source": [
        "## 데이터 불러오기"
      ],
      "metadata": {
        "id": "VuL9-eCcuihm"
      }
    },
    {
      "cell_type": "code",
      "source": [
        "# 경로 설정\n",
        "data_path = '/content/gdrive/Shareddrives/deepfake_ORI/data/deepfake'"
      ],
      "metadata": {
        "id": "xHgIBPaBhUKx"
      },
      "execution_count": null,
      "outputs": []
    },
    {
      "cell_type": "code",
      "source": [
        "def get_files_count(folder_path):\n",
        "\tdirListing = os.listdir(folder_path)\n",
        "\treturn len(dirListing)"
      ],
      "metadata": {
        "id": "5IWgDZkVp8Et"
      },
      "execution_count": null,
      "outputs": []
    },
    {
      "cell_type": "code",
      "source": [
        "print('Number of ORI real: ', get_files_count(data_path + '/real'))\n",
        "print('Number of ORI fake: ', get_files_count(data_path + '/fake'))"
      ],
      "metadata": {
        "id": "Uogtf2BclSJ2",
        "colab": {
          "base_uri": "https://localhost:8080/"
        },
        "outputId": "0b7d2c69-7f19-4a9d-d186-cacf51877a22"
      },
      "execution_count": null,
      "outputs": [
        {
          "output_type": "stream",
          "name": "stdout",
          "text": [
            "Number of ORI real:  5400\n",
            "Number of ORI fake:  18600\n"
          ]
        }
      ]
    },
    {
      "cell_type": "markdown",
      "source": [
        "### train test split"
      ],
      "metadata": {
        "id": "eupVHa91uqR6"
      }
    },
    {
      "cell_type": "code",
      "source": [
        "real_path = glob.glob(data_path + \"/real/*.jpg\")\n",
        "fake_path = glob.glob(data_path + \"/fake/*.jpg\")"
      ],
      "metadata": {
        "id": "Zk8vy_2Rt9A1"
      },
      "execution_count": null,
      "outputs": []
    },
    {
      "cell_type": "code",
      "source": [
        "train_real_size = int(0.8 * len(real_path))\n",
        "test_real_size = len(real_path) - train_real_size\n",
        "train_real_dataset, test_real_dataset = torch.utils.data.random_split(real_path, [train_real_size, test_real_size], generator=torch.Generator().manual_seed(42))"
      ],
      "metadata": {
        "id": "--HWqkfOrGEU"
      },
      "execution_count": null,
      "outputs": []
    },
    {
      "cell_type": "code",
      "source": [
        "train_fake_size = int(0.8 * len(fake_path))\n",
        "test_fake_size = len(fake_path) - train_fake_size\n",
        "train_fake_dataset, test_fake_dataset = torch.utils.data.random_split(fake_path, [train_fake_size, test_fake_size], generator=torch.Generator().manual_seed(42))"
      ],
      "metadata": {
        "id": "xqd3wY7tubh6"
      },
      "execution_count": null,
      "outputs": []
    },
    {
      "cell_type": "code",
      "source": [
        "train_path = '/content/gdrive/Shareddrives/deepfake_ORI/data/train'\n",
        "test_path = '/content/gdrive/Shareddrives/deepfake_ORI/data/test'"
      ],
      "metadata": {
        "id": "qRVmzTn2w09a"
      },
      "execution_count": null,
      "outputs": []
    },
    {
      "cell_type": "code",
      "source": [
        "for file in train_real_dataset:\n",
        "  train_real_name = file.split(\"/\")[-1][:-4]\n",
        "  src = os.path.join(data_path + '/real/', train_real_name+'.jpg')\n",
        "  dst = os.path.join(train_path + '/real/', train_real_name+'.jpg')\n",
        "  shutil.copyfile(src, dst)"
      ],
      "metadata": {
        "id": "aiDbtc8zvpXr"
      },
      "execution_count": null,
      "outputs": []
    },
    {
      "cell_type": "code",
      "source": [
        "for file in tqdm(train_fake_dataset):\n",
        "  train_fake_name = file.split(\"/\")[-1][:-4]\n",
        "  src = os.path.join(data_path + '/fake/', train_fake_name+'.jpg')\n",
        "  dst = os.path.join(train_path + '/fake/', train_fake_name+'.jpg')\n",
        "  shutil.copyfile(src, dst)"
      ],
      "metadata": {
        "id": "i-1GkNY2vp91",
        "colab": {
          "base_uri": "https://localhost:8080/"
        },
        "outputId": "3557f3cc-6947-4cd8-ca33-2846e258327a"
      },
      "execution_count": null,
      "outputs": [
        {
          "output_type": "stream",
          "name": "stderr",
          "text": [
            "100%|██████████| 14880/14880 [10:39<00:00, 23.26it/s]\n"
          ]
        }
      ]
    },
    {
      "cell_type": "code",
      "source": [
        "for file in tqdm(test_real_dataset):\n",
        "  test_real_name = file.split(\"/\")[-1][:-4]\n",
        "  src = os.path.join(data_path + '/real/', test_real_name+'.jpg')\n",
        "  dst = os.path.join(test_path + '/real/', test_real_name+'.jpg')\n",
        "  shutil.copyfile(src, dst)"
      ],
      "metadata": {
        "colab": {
          "base_uri": "https://localhost:8080/"
        },
        "id": "7wVbviXf0SY2",
        "outputId": "1b0411f8-a7de-41af-c900-277bda20dba7"
      },
      "execution_count": null,
      "outputs": [
        {
          "output_type": "stream",
          "name": "stderr",
          "text": [
            "100%|██████████| 1080/1080 [07:04<00:00,  2.55it/s]\n"
          ]
        }
      ]
    },
    {
      "cell_type": "code",
      "source": [
        "for file in tqdm(test_fake_dataset):\n",
        "  test_fake_name = file.split(\"/\")[-1][:-4]\n",
        "  src = os.path.join(data_path + '/fake/', test_fake_name+'.jpg')\n",
        "  dst = os.path.join(test_path + '/fake/', test_fake_name+'.jpg')\n",
        "  shutil.copyfile(src, dst)"
      ],
      "metadata": {
        "colab": {
          "base_uri": "https://localhost:8080/"
        },
        "id": "jsjR4ZuM0Yup",
        "outputId": "8c753821-ba63-40c3-e97e-c82f60e29ac8"
      },
      "execution_count": null,
      "outputs": [
        {
          "output_type": "stream",
          "name": "stderr",
          "text": [
            "100%|██████████| 3720/3720 [17:28<00:00,  3.55it/s]\n"
          ]
        }
      ]
    },
    {
      "cell_type": "code",
      "source": [
        "print(get_files_count(train_path + '/real'))\n",
        "print(get_files_count(train_path + '/fake'))\n",
        "\n",
        "print(get_files_count(test_path + '/real'))\n",
        "print(get_files_count(test_path + '/fake'))"
      ],
      "metadata": {
        "colab": {
          "base_uri": "https://localhost:8080/"
        },
        "id": "TMH8Geg9RokH",
        "outputId": "b624e76d-310a-46e3-bb2d-57561f4df31d"
      },
      "execution_count": null,
      "outputs": [
        {
          "output_type": "stream",
          "name": "stdout",
          "text": [
            "4320\n",
            "14880\n",
            "1080\n",
            "3720\n"
          ]
        }
      ]
    }
  ]
}