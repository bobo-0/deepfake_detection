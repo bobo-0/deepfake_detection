{
  "nbformat": 4,
  "nbformat_minor": 0,
  "metadata": {
    "colab": {
      "name": "MakeHSVVideo.ipynb",
      "provenance": [],
      "collapsed_sections": [],
      "include_colab_link": true
    },
    "kernelspec": {
      "name": "python3",
      "display_name": "Python 3"
    },
    "language_info": {
      "name": "python"
    },
    "accelerator": "GPU"
  },
  "cells": [
    {
      "cell_type": "markdown",
      "metadata": {
        "id": "view-in-github",
        "colab_type": "text"
      },
      "source": [
        "<a href=\"https://colab.research.google.com/github/bobo-0/deepfake_detection/blob/main/code/MakeHSVVideo.ipynb\" target=\"_parent\"><img src=\"https://colab.research.google.com/assets/colab-badge.svg\" alt=\"Open In Colab\"/></a>"
      ]
    },
    {
      "cell_type": "code",
      "execution_count": null,
      "metadata": {
        "colab": {
          "base_uri": "https://localhost:8080/"
        },
        "id": "zle7-AidiA7h",
        "outputId": "23a1feae-839b-4aa4-c1ad-eda38eddea34"
      },
      "outputs": [
        {
          "output_type": "stream",
          "name": "stdout",
          "text": [
            "Mounted at /content/gdrive/\n"
          ]
        }
      ],
      "source": [
        "import cv2\n",
        "import numpy as np\n",
        "import glob\n",
        "import os\n",
        "from tqdm import tqdm\n",
        "\n",
        "from google.colab import drive\n",
        "drive.mount('/content/gdrive/')\n",
        "data_path = '/content/gdrive/Shareddrives/딥러닝_보주콩/data/'\n",
        "original_data_path = '/content/gdrive/Shareddrives/딥러닝_보주콩/data/deepfake-detection-challenge/train-sample-videos/Original/'\n",
        "hsv_data_path = '/content/gdrive/Shareddrives/딥러닝_보주콩/data/deepfake-detection-challenge/train-sample-videos/HSV/'"
      ]
    },
    {
      "cell_type": "code",
      "source": [
        "## original video to hsv transformed video\n",
        "video_paths = glob.glob(\"/content/gdrive/Shareddrives/딥러닝_보주콩/data/deepfake-detection-challenge/train-sample-videos/Original/*.mp4\")\n",
        "print(video_paths)\n",
        "for vp in tqdm(video_paths):\n",
        "    video_name = vp.split(\"/\")[-1][:-4]\n",
        "    vidcap = cv2.VideoCapture(vp)\n",
        "    success,image = vidcap.read()\n",
        "\n",
        "    img_array = []\n",
        "    while success:\n",
        "        img_hsv = cv2.cvtColor(image, cv2.COLOR_BGR2HSV) \n",
        "        \n",
        "        val = 255\n",
        "        array = np.full(img_hsv.shape, (0,val,0), dtype=np.uint8)\n",
        "        val_add_image = cv2.add(img_hsv, array)\n",
        "        val_add_image = cv2.cvtColor(val_add_image, cv2.COLOR_HSV2BGR)\n",
        "        success,image = vidcap.read()\n",
        "\n",
        "        img_array.append(val_add_image)\n",
        "        \n",
        "        height, width, layer = val_add_image.shape\n",
        "        size = (width,height)\n",
        "       \n",
        "    out = cv2.VideoWriter(rgb_data_path+video_name+'.mp4',cv2.VideoWriter_fourcc(*'DIVX'), 20, size)\n",
        "        \n",
        "    for i in range(len(img_array)):\n",
        "        out.write(img_array[i])\n",
        "    out.release()\n",
        "\n",
        "    print(\"finish! convert video to frame {name}\".format(name=video_name))\n",
        "\n",
        "print(\"all convert finish!!\")"
      ],
      "metadata": {
        "colab": {
          "base_uri": "https://localhost:8080/"
        },
        "id": "tkhIUpyxmCcE",
        "outputId": "fec2eaa9-7836-472e-e9f9-1dddf687dac2"
      },
      "execution_count": null,
      "outputs": [
        {
          "output_type": "stream",
          "name": "stdout",
          "text": [
            "[]\n"
          ]
        },
        {
          "output_type": "stream",
          "name": "stderr",
          "text": [
            "0it [00:00, ?it/s]"
          ]
        },
        {
          "output_type": "stream",
          "name": "stdout",
          "text": [
            "all convert finish!!\n"
          ]
        },
        {
          "output_type": "stream",
          "name": "stderr",
          "text": [
            "\n"
          ]
        }
      ]
    },
    {
      "cell_type": "code",
      "source": [
        ""
      ],
      "metadata": {
        "id": "uJMDLK9VpXQA"
      },
      "execution_count": null,
      "outputs": []
    }
  ]
}